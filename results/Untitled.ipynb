{
 "cells": [
  {
   "cell_type": "code",
   "execution_count": 1,
   "metadata": {},
   "outputs": [],
   "source": [
    "import numpy as np\n",
    "import pandas as pd \n",
    "import matplotlib.pyplot as plt\n",
    "import seaborn as sns\n",
    "from os import path"
   ]
  },
  {
   "cell_type": "code",
   "execution_count": 3,
   "metadata": {},
   "outputs": [
    {
     "data": {
      "text/html": [
       "<div>\n",
       "<style scoped>\n",
       "    .dataframe tbody tr th:only-of-type {\n",
       "        vertical-align: middle;\n",
       "    }\n",
       "\n",
       "    .dataframe tbody tr th {\n",
       "        vertical-align: top;\n",
       "    }\n",
       "\n",
       "    .dataframe thead th {\n",
       "        text-align: right;\n",
       "    }\n",
       "</style>\n",
       "<table border=\"1\" class=\"dataframe\">\n",
       "  <thead>\n",
       "    <tr style=\"text-align: right;\">\n",
       "      <th></th>\n",
       "      <th>id</th>\n",
       "      <th>constr_count</th>\n",
       "      <th>rho_a</th>\n",
       "      <th>rho_b</th>\n",
       "      <th>a_accepts</th>\n",
       "      <th>b_accepts</th>\n",
       "      <th>both_accept</th>\n",
       "      <th>p_a</th>\n",
       "      <th>p_b</th>\n",
       "      <th>p_ap_b</th>\n",
       "      <th>success</th>\n",
       "      <th>total_message_count</th>\n",
       "      <th>strat</th>\n",
       "      <th>utility</th>\n",
       "      <th>opponent_utility</th>\n",
       "      <th>transcript</th>\n",
       "    </tr>\n",
       "  </thead>\n",
       "  <tbody>\n",
       "    <tr>\n",
       "      <th>0</th>\n",
       "      <td>/home/venteda/Documents/pyneg/results/be939442...</td>\n",
       "      <td>11</td>\n",
       "      <td>0.777778</td>\n",
       "      <td>0.333333</td>\n",
       "      <td>110</td>\n",
       "      <td>640</td>\n",
       "      <td>0</td>\n",
       "      <td>0.000000</td>\n",
       "      <td>0.000000</td>\n",
       "      <td>0.000000</td>\n",
       "      <td>False</td>\n",
       "      <td>1</td>\n",
       "      <td>Constrained Linear Concession</td>\n",
       "      <td>-16777216.0</td>\n",
       "      <td>-16777216.0</td>\n",
       "      <td>(A=&gt;B;EXIT)</td>\n",
       "    </tr>\n",
       "    <tr>\n",
       "      <th>1</th>\n",
       "      <td>/home/venteda/Documents/pyneg/results/be939442...</td>\n",
       "      <td>2</td>\n",
       "      <td>0.333333</td>\n",
       "      <td>0.444444</td>\n",
       "      <td>5209</td>\n",
       "      <td>4953</td>\n",
       "      <td>3192</td>\n",
       "      <td>0.612786</td>\n",
       "      <td>0.644458</td>\n",
       "      <td>0.394915</td>\n",
       "      <td>False</td>\n",
       "      <td>1</td>\n",
       "      <td>Constrained Linear Concession</td>\n",
       "      <td>-16777216.0</td>\n",
       "      <td>-16777216.0</td>\n",
       "      <td>(A=&gt;B;EXIT)</td>\n",
       "    </tr>\n",
       "    <tr>\n",
       "      <th>2</th>\n",
       "      <td>/home/venteda/Documents/pyneg/results/1c35a17b...</td>\n",
       "      <td>2</td>\n",
       "      <td>0.222222</td>\n",
       "      <td>0.111111</td>\n",
       "      <td>5368</td>\n",
       "      <td>5184</td>\n",
       "      <td>3568</td>\n",
       "      <td>0.664680</td>\n",
       "      <td>0.688272</td>\n",
       "      <td>0.457480</td>\n",
       "      <td>False</td>\n",
       "      <td>1</td>\n",
       "      <td>Constrained Linear Concession</td>\n",
       "      <td>-16777216.0</td>\n",
       "      <td>-16777216.0</td>\n",
       "      <td>(A=&gt;B;EXIT)</td>\n",
       "    </tr>\n",
       "    <tr>\n",
       "      <th>3</th>\n",
       "      <td>/home/venteda/Documents/pyneg/results/be939442...</td>\n",
       "      <td>14</td>\n",
       "      <td>0.888889</td>\n",
       "      <td>0.777778</td>\n",
       "      <td>15</td>\n",
       "      <td>59</td>\n",
       "      <td>0</td>\n",
       "      <td>0.000000</td>\n",
       "      <td>0.000000</td>\n",
       "      <td>0.000000</td>\n",
       "      <td>False</td>\n",
       "      <td>1</td>\n",
       "      <td>Constrained Linear Concession</td>\n",
       "      <td>-16777216.0</td>\n",
       "      <td>-16777216.0</td>\n",
       "      <td>(A=&gt;B;EXIT)</td>\n",
       "    </tr>\n",
       "    <tr>\n",
       "      <th>4</th>\n",
       "      <td>/home/venteda/Documents/pyneg/results/be939442...</td>\n",
       "      <td>3</td>\n",
       "      <td>1.000000</td>\n",
       "      <td>0.111111</td>\n",
       "      <td>1</td>\n",
       "      <td>4320</td>\n",
       "      <td>0</td>\n",
       "      <td>0.000000</td>\n",
       "      <td>0.000000</td>\n",
       "      <td>0.000000</td>\n",
       "      <td>False</td>\n",
       "      <td>1</td>\n",
       "      <td>Constrained Linear Concession</td>\n",
       "      <td>-16777216.0</td>\n",
       "      <td>-16777216.0</td>\n",
       "      <td>(A=&gt;B;EXIT)</td>\n",
       "    </tr>\n",
       "  </tbody>\n",
       "</table>\n",
       "</div>"
      ],
      "text/plain": [
       "                                                  id  constr_count     rho_a  \\\n",
       "0  /home/venteda/Documents/pyneg/results/be939442...            11  0.777778   \n",
       "1  /home/venteda/Documents/pyneg/results/be939442...             2  0.333333   \n",
       "2  /home/venteda/Documents/pyneg/results/1c35a17b...             2  0.222222   \n",
       "3  /home/venteda/Documents/pyneg/results/be939442...            14  0.888889   \n",
       "4  /home/venteda/Documents/pyneg/results/be939442...             3  1.000000   \n",
       "\n",
       "      rho_b  a_accepts  b_accepts  both_accept       p_a       p_b    p_ap_b  \\\n",
       "0  0.333333        110        640            0  0.000000  0.000000  0.000000   \n",
       "1  0.444444       5209       4953         3192  0.612786  0.644458  0.394915   \n",
       "2  0.111111       5368       5184         3568  0.664680  0.688272  0.457480   \n",
       "3  0.777778         15         59            0  0.000000  0.000000  0.000000   \n",
       "4  0.111111          1       4320            0  0.000000  0.000000  0.000000   \n",
       "\n",
       "   success  total_message_count                          strat     utility  \\\n",
       "0    False                    1  Constrained Linear Concession -16777216.0   \n",
       "1    False                    1  Constrained Linear Concession -16777216.0   \n",
       "2    False                    1  Constrained Linear Concession -16777216.0   \n",
       "3    False                    1  Constrained Linear Concession -16777216.0   \n",
       "4    False                    1  Constrained Linear Concession -16777216.0   \n",
       "\n",
       "   opponent_utility   transcript  \n",
       "0       -16777216.0  (A=>B;EXIT)  \n",
       "1       -16777216.0  (A=>B;EXIT)  \n",
       "2       -16777216.0  (A=>B;EXIT)  \n",
       "3       -16777216.0  (A=>B;EXIT)  \n",
       "4       -16777216.0  (A=>B;EXIT)  "
      ]
     },
     "execution_count": 3,
     "metadata": {},
     "output_type": "execute_result"
    }
   ],
   "source": [
    "results = pd.read_csv(\"results.csv\")\n",
    "results.head()"
   ]
  },
  {
   "cell_type": "code",
   "execution_count": 4,
   "metadata": {},
   "outputs": [
    {
     "name": "stderr",
     "output_type": "stream",
     "text": [
      "/opt/conda/lib/python3.7/site-packages/statsmodels/nonparametric/kde.py:487: RuntimeWarning: invalid value encountered in true_divide\n",
      "  binned = fast_linbin(X, a, b, gridsize) / (delta * nobs)\n",
      "/opt/conda/lib/python3.7/site-packages/statsmodels/nonparametric/kdetools.py:34: RuntimeWarning: invalid value encountered in double_scalars\n",
      "  FAC1 = 2*(np.pi*bw/RANGE)**2\n"
     ]
    },
    {
     "data": {
      "text/plain": [
       "<matplotlib.axes._subplots.AxesSubplot at 0x7f863bcfe278>"
      ]
     },
     "execution_count": 4,
     "metadata": {},
     "output_type": "execute_result"
    },
    {
     "data": {
      "image/png": "[encoded data removed]",
      "text/plain": [
       "<Figure size 432x288 with 1 Axes>"
      ]
     },
     "metadata": {
      "needs_background": "light"
     },
     "output_type": "display_data"
    }
   ],
   "source": [
    "sns.distplot(results[~results['success']]['utility'])"
   ]
  },
  {
   "cell_type": "code",
   "execution_count": 5,
   "metadata": {},
   "outputs": [
    {
     "data": {
      "text/plain": [
       "3955"
      ]
     },
     "execution_count": 5,
     "metadata": {},
     "output_type": "execute_result"
    }
   ],
   "source": [
    "len(results)"
   ]
  },
  {
   "cell_type": "code",
   "execution_count": 8,
   "metadata": {},
   "outputs": [
    {
     "data": {
      "text/plain": [
       "array([-16777216.])"
      ]
     },
     "execution_count": 8,
     "metadata": {},
     "output_type": "execute_result"
    }
   ],
   "source": [
    "results[~results['success']]['utility'].unique()"
   ]
  },
  {
   "cell_type": "code",
   "execution_count": null,
   "metadata": {},
   "outputs": [],
   "source": []
  }
 ],
 "metadata": {
  "kernelspec": {
   "display_name": "Python 3",
   "language": "python",
   "name": "python3"
  },
  "language_info": {
   "codemirror_mode": {
    "name": "ipython",
    "version": 3
   },
   "file_extension": ".py",
   "mimetype": "text/x-python",
   "name": "python",
   "nbconvert_exporter": "python",
   "pygments_lexer": "ipython3",
   "version": "3.7.3"
  }
 },
 "nbformat": 4,
 "nbformat_minor": 2
}
