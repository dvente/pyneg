{
 "cells": [
  {
   "cell_type": "code",
   "execution_count": 24,
   "metadata": {},
   "outputs": [],
   "source": [
    "import numpy as np\n",
    "import pandas as pd\n",
    "import matplotlib.pyplot as plt\n",
    "import seaborn as sns\n",
    "import re"
   ]
  },
  {
   "cell_type": "code",
   "execution_count": 5,
   "metadata": {},
   "outputs": [
    {
     "data": {
      "text/html": [
       "<div>\n",
       "<style scoped>\n",
       "    .dataframe tbody tr th:only-of-type {\n",
       "        vertical-align: middle;\n",
       "    }\n",
       "\n",
       "    .dataframe tbody tr th {\n",
       "        vertical-align: top;\n",
       "    }\n",
       "\n",
       "    .dataframe thead th {\n",
       "        text-align: right;\n",
       "    }\n",
       "</style>\n",
       "<table border=\"1\" class=\"dataframe\">\n",
       "  <thead>\n",
       "    <tr style=\"text-align: right;\">\n",
       "      <th></th>\n",
       "      <th>id</th>\n",
       "      <th>constr_count</th>\n",
       "      <th>rho_a</th>\n",
       "      <th>rho_b</th>\n",
       "      <th>a_accepts</th>\n",
       "      <th>b_accepts</th>\n",
       "      <th>both_accept</th>\n",
       "      <th>p_a</th>\n",
       "      <th>p_b</th>\n",
       "      <th>p_ap_b</th>\n",
       "      <th>success</th>\n",
       "      <th>total_message_count</th>\n",
       "      <th>strat</th>\n",
       "      <th>utility</th>\n",
       "      <th>opponent_utility</th>\n",
       "      <th>transcript</th>\n",
       "    </tr>\n",
       "  </thead>\n",
       "  <tbody>\n",
       "    <tr>\n",
       "      <th>0</th>\n",
       "      <td>8cce13a3-1</td>\n",
       "      <td>1</td>\n",
       "      <td>0.0</td>\n",
       "      <td>0.888889</td>\n",
       "      <td>4941258</td>\n",
       "      <td>2222</td>\n",
       "      <td>1242</td>\n",
       "      <td>0.000251</td>\n",
       "      <td>0.558956</td>\n",
       "      <td>1.404952e-04</td>\n",
       "      <td>False</td>\n",
       "      <td>2</td>\n",
       "      <td>Linear Concession</td>\n",
       "      <td>-1.677722e+07</td>\n",
       "      <td>-1.677722e+07</td>\n",
       "      <td>['Message(A, B, offer, \\n    issue0: 0\\n    is...</td>\n",
       "    </tr>\n",
       "    <tr>\n",
       "      <th>1</th>\n",
       "      <td>87f249a0-18</td>\n",
       "      <td>18</td>\n",
       "      <td>0.0</td>\n",
       "      <td>0.333333</td>\n",
       "      <td>172800</td>\n",
       "      <td>213811</td>\n",
       "      <td>956</td>\n",
       "      <td>0.005532</td>\n",
       "      <td>0.004471</td>\n",
       "      <td>2.473671e-05</td>\n",
       "      <td>False</td>\n",
       "      <td>2</td>\n",
       "      <td>Linear Concession</td>\n",
       "      <td>-1.677722e+07</td>\n",
       "      <td>-1.677722e+07</td>\n",
       "      <td>['Message(A, B, offer, \\n    issue0: 0\\n    is...</td>\n",
       "    </tr>\n",
       "    <tr>\n",
       "      <th>2</th>\n",
       "      <td>d9669406-23</td>\n",
       "      <td>23</td>\n",
       "      <td>0.0</td>\n",
       "      <td>0.000000</td>\n",
       "      <td>48000</td>\n",
       "      <td>64800</td>\n",
       "      <td>48</td>\n",
       "      <td>0.001000</td>\n",
       "      <td>0.000741</td>\n",
       "      <td>7.407407e-07</td>\n",
       "      <td>True</td>\n",
       "      <td>2</td>\n",
       "      <td>Linear Random</td>\n",
       "      <td>6.957143e+01</td>\n",
       "      <td>-7.071429e+02</td>\n",
       "      <td>['Message(A, B, offer, \\n    issue0: 1\\n    is...</td>\n",
       "    </tr>\n",
       "    <tr>\n",
       "      <th>3</th>\n",
       "      <td>d9669406-3</td>\n",
       "      <td>3</td>\n",
       "      <td>0.0</td>\n",
       "      <td>0.444444</td>\n",
       "      <td>3529470</td>\n",
       "      <td>2866804</td>\n",
       "      <td>1562459</td>\n",
       "      <td>0.442689</td>\n",
       "      <td>0.545018</td>\n",
       "      <td>2.412736e-01</td>\n",
       "      <td>False</td>\n",
       "      <td>2</td>\n",
       "      <td>Linear Concession</td>\n",
       "      <td>-1.677722e+07</td>\n",
       "      <td>-1.677722e+07</td>\n",
       "      <td>['Message(A, B, offer, \\n    issue0: 0\\n    is...</td>\n",
       "    </tr>\n",
       "    <tr>\n",
       "      <th>4</th>\n",
       "      <td>d9669406-8</td>\n",
       "      <td>8</td>\n",
       "      <td>0.0</td>\n",
       "      <td>0.444444</td>\n",
       "      <td>1382976</td>\n",
       "      <td>1354087</td>\n",
       "      <td>134955</td>\n",
       "      <td>0.097583</td>\n",
       "      <td>0.099665</td>\n",
       "      <td>9.725608e-03</td>\n",
       "      <td>False</td>\n",
       "      <td>2</td>\n",
       "      <td>Linear Concession</td>\n",
       "      <td>-1.677722e+07</td>\n",
       "      <td>-1.677722e+07</td>\n",
       "      <td>['Message(A, B, offer, \\n    issue0: 0\\n    is...</td>\n",
       "    </tr>\n",
       "  </tbody>\n",
       "</table>\n",
       "</div>"
      ],
      "text/plain": [
       "            id  constr_count  rho_a     rho_b  a_accepts  b_accepts  \\\n",
       "0   8cce13a3-1             1    0.0  0.888889    4941258       2222   \n",
       "1  87f249a0-18            18    0.0  0.333333     172800     213811   \n",
       "2  d9669406-23            23    0.0  0.000000      48000      64800   \n",
       "3   d9669406-3             3    0.0  0.444444    3529470    2866804   \n",
       "4   d9669406-8             8    0.0  0.444444    1382976    1354087   \n",
       "\n",
       "   both_accept       p_a       p_b        p_ap_b  success  \\\n",
       "0         1242  0.000251  0.558956  1.404952e-04    False   \n",
       "1          956  0.005532  0.004471  2.473671e-05    False   \n",
       "2           48  0.001000  0.000741  7.407407e-07     True   \n",
       "3      1562459  0.442689  0.545018  2.412736e-01    False   \n",
       "4       134955  0.097583  0.099665  9.725608e-03    False   \n",
       "\n",
       "   total_message_count              strat       utility  opponent_utility  \\\n",
       "0                    2  Linear Concession -1.677722e+07     -1.677722e+07   \n",
       "1                    2  Linear Concession -1.677722e+07     -1.677722e+07   \n",
       "2                    2      Linear Random  6.957143e+01     -7.071429e+02   \n",
       "3                    2  Linear Concession -1.677722e+07     -1.677722e+07   \n",
       "4                    2  Linear Concession -1.677722e+07     -1.677722e+07   \n",
       "\n",
       "                                          transcript  \n",
       "0  ['Message(A, B, offer, \\n    issue0: 0\\n    is...  \n",
       "1  ['Message(A, B, offer, \\n    issue0: 0\\n    is...  \n",
       "2  ['Message(A, B, offer, \\n    issue0: 1\\n    is...  \n",
       "3  ['Message(A, B, offer, \\n    issue0: 0\\n    is...  \n",
       "4  ['Message(A, B, offer, \\n    issue0: 0\\n    is...  "
      ]
     },
     "execution_count": 5,
     "metadata": {},
     "output_type": "execute_result"
    }
   ],
   "source": [
    "outlier_results = pd.read_csv(\"outlier_results.csv\")\n",
    "outlier_results.head()"
   ]
  },
  {
   "cell_type": "code",
   "execution_count": 9,
   "metadata": {},
   "outputs": [],
   "source": [
    "first_transcript = outlier_results.loc[0,\"transcript\"]"
   ]
  },
  {
   "cell_type": "code",
   "execution_count": 10,
   "metadata": {},
   "outputs": [
    {
     "data": {
      "text/plain": [
       "\"['Message(A, B, offer, \\\\n    issue0: 0\\\\n    issue1: 6\\\\n    issue2: 2\\\\n    issue3: 3\\\\n    issue4: 2\\\\n    issue5: 3\\\\n    issue6: 3\\\\n    issue7: 3\\\\n)', 'Message(B, A, terminate)']\""
      ]
     },
     "execution_count": 10,
     "metadata": {},
     "output_type": "execute_result"
    }
   ],
   "source": [
    "first_transcript"
   ]
  },
  {
   "cell_type": "code",
   "execution_count": 19,
   "metadata": {},
   "outputs": [],
   "source": [
    "out = outlier_results[((~outlier_results['success']) & (outlier_results['utility'] >= 0)) | ((outlier_results['success']) & (outlier_results['utility'] <= 0))]\n"
   ]
  },
  {
   "cell_type": "code",
   "execution_count": 33,
   "metadata": {},
   "outputs": [
    {
     "data": {
      "text/plain": [
       "\"['Message(A, B, offer, \\\\n    issue0: 0\\\\n    issue1: 6\\\\n    issue2: 2\\\\n    issue3: 3\\\\n    issue4: 2\\\\n    issue5: 3\\\\n    issue6: 3\\\\n    issue7: 5\\\\n)', 'Message(B, A, offer, \\\\n    issue0: 5\\\\n    issue1: 1\\\\n    issue2: 1\\\\n    issue3: 6\\\\n    issue4: 1\\\\n    issue5: 6\\\\n    issue6: 2\\\\n    issue7: 6\\\\n)', 'Message(A, B, accept, \\\\n    issue0: 5\\\\n    issue1: 1\\\\n    issue2: 1\\\\n    issue3: 6\\\\n    issue4: 1\\\\n    issue5: 6\\\\n    issue6: 2\\\\n    issue7: 6\\\\n)']\""
      ]
     },
     "execution_count": 33,
     "metadata": {},
     "output_type": "execute_result"
    }
   ],
   "source": [
    "re.sub(\"\\\\n\",\"\",str(out.iloc[0,-1]))"
   ]
  },
  {
   "cell_type": "code",
   "execution_count": 14,
   "metadata": {},
   "outputs": [
    {
     "data": {
      "text/plain": [
       "array([-1.67772160e+07,  6.95714286e+01,  5.17142857e+01,  7.24285714e+01,\n",
       "        3.84285714e+01,  6.01428571e+01, -1.14285714e+03, -3.99285714e+02,\n",
       "       -9.94857143e+02, -2.48571429e+02, -7.00714286e+02, -6.94142857e+02,\n",
       "       -3.95000000e+02, -8.49142857e+02, -6.98571429e+02, -9.70000000e+01,\n",
       "       -4.03857143e+02,  5.77142857e+01,  6.62857143e+01, -7.03428571e+02,\n",
       "       -3.89000000e+02,  3.81428571e+01, -7.01285714e+02,  6.45714286e+01,\n",
       "        4.87142857e+01, -2.62142857e+02,  5.30000000e+01, -3.83142857e+02,\n",
       "       -9.95714286e+01,  8.35714286e+01,  7.48571429e+01,  5.45714286e+01,\n",
       "        4.45714286e+01, -7.00571429e+02, -1.20857143e+02, -2.42857143e+02,\n",
       "        7.54285714e+01, -5.47571429e+02, -2.47571429e+02, -4.07714286e+02,\n",
       "       -8.46428571e+02, -6.92857143e+02, -2.56142857e+02,  7.08571429e+01,\n",
       "       -4.04428571e+02,  6.70000000e+01,  5.88571429e+01, -5.44857143e+02,\n",
       "        5.84285714e+01,  5.05714286e+01, -5.46571429e+02, -6.88285714e+02,\n",
       "        4.98571429e+01,  7.01428571e+01, -5.38857143e+02,  5.58571429e+01,\n",
       "        7.05714286e+01,  6.67142857e+01,  4.94285714e+01,  6.55714286e+01,\n",
       "       -5.56714286e+02, -5.45285714e+02, -7.03571429e+02,  5.64285714e+01,\n",
       "        5.57142857e+01,  4.97142857e+01, -1.08857143e+02, -5.52571429e+02,\n",
       "        6.37142857e+01,  5.98571429e+01,  7.27142857e+01,  5.11428571e+01,\n",
       "       -7.03285714e+02,  7.82857143e+01,  4.77142857e+01,  3.57142857e+01,\n",
       "       -6.97142857e+02,  8.32857143e+01,  6.65714286e+01, -7.02142857e+02,\n",
       "        7.42857143e+01,  6.34285714e+01, -2.55285714e+02,  6.54285714e+01,\n",
       "        2.17142857e+01, -5.56857143e+02,  5.21428571e+01,  6.97142857e+01,\n",
       "        6.58571429e+01,  8.10000000e+01, -2.60142857e+02,  5.32857143e+01,\n",
       "       -5.51571429e+02,  3.88571429e+01, -6.97000000e+02, -3.95571429e+02,\n",
       "        7.07142857e+01,  4.80000000e+01,  8.11428571e+01,  7.15714286e+01,\n",
       "       -6.91142857e+02, -3.92000000e+02,  5.07142857e+01,  8.01428571e+01,\n",
       "        4.72857143e+01,  7.11428571e+01, -5.57571429e+02,  8.18571429e+01,\n",
       "        3.85714286e+01, -8.43285714e+02,  5.61428571e+01,  7.98571429e+01,\n",
       "        6.02857143e+01,  5.78571429e+01, -6.92142857e+02, -9.95857143e+02,\n",
       "       -6.96285714e+02, -2.50285714e+02, -5.48142857e+02,  6.10000000e+01,\n",
       "        4.37142857e+01,  7.35714286e+01, -4.15285714e+02,  5.72857143e+01,\n",
       "       -3.90000000e+02,  7.30000000e+01, -8.55857143e+02, -2.34857143e+02,\n",
       "        5.28571429e+01,  4.81428571e+01, -8.38857143e+02, -2.58571429e+02,\n",
       "        7.65714286e+01, -4.06428571e+02,  3.54285714e+01, -6.97285714e+02,\n",
       "        6.61428571e+01,  8.27142857e+01, -5.41285714e+02, -6.97571429e+02,\n",
       "       -2.57857143e+02,  5.32857143e+01,  6.82857143e+01,  6.77142857e+01,\n",
       "       -7.00857143e+02,  6.31428571e+01,  6.47142857e+01, -2.45428571e+02,\n",
       "        5.48571429e+01, -1.15571429e+02, -1.05428571e+02,  5.04285714e+01,\n",
       "       -5.59000000e+02,  6.57142857e+01,  5.91428571e+01,  5.84285714e+01,\n",
       "        5.67142857e+01, -7.04285714e+02,  5.72857143e+01,  5.85714286e+01,\n",
       "        3.87142857e+01,  6.85714286e+01,  5.38571429e+01,  5.74285714e+01,\n",
       "       -4.00285714e+02, -3.93428571e+02,  5.08571429e+01,  5.95714286e+01,\n",
       "        6.68571429e+01, -9.93000000e+02,  6.98571429e+01,  5.17142857e+01,\n",
       "       -3.89142857e+02,  5.92857143e+01, -6.99428571e+02,  4.90000000e+01,\n",
       "        8.05714286e+01,  5.47142857e+01, -8.68571429e+01, -9.93857143e+02,\n",
       "       -3.96571429e+02, -8.51571429e+02,  4.17142857e+01,  5.67142857e+01,\n",
       "        8.15714286e+01, -6.91571429e+02,  9.21428571e+01, -2.46714286e+02,\n",
       "        6.31428571e+01,  6.27142857e+01,  6.10000000e+01,  6.32857143e+01,\n",
       "        7.40000000e+01, -5.49000000e+02,  6.48571429e+01, -2.59000000e+02,\n",
       "       -2.53285714e+02,  5.71428571e+01,  6.08571429e+01, -9.14285714e+01,\n",
       "       -3.98142857e+02,  4.70000000e+01,  6.08571429e+01,  6.87142857e+01,\n",
       "        7.57142857e+01,  5.92857143e+01, -3.95428571e+02, -1.08000000e+02,\n",
       "        5.35714286e+01,  6.22857143e+01,  3.98571429e+01,  6.47142857e+01,\n",
       "       -4.05285714e+02,  4.54285714e+01,  6.12857143e+01,  8.20000000e+01,\n",
       "       -4.06857143e+02, -8.50428571e+02, -2.51857143e+02, -6.95000000e+02,\n",
       "       -6.93285714e+02, -9.58571429e+01,  6.38571429e+01,  8.31428571e+01,\n",
       "        7.21428571e+01, -8.47000000e+02, -5.40000000e+02, -6.95714286e+02,\n",
       "        5.31428571e+01, -6.95714286e+02, -8.49571429e+02,  7.45714286e+01,\n",
       "       -6.92285714e+02,  3.44285714e+01, -4.07142857e+02, -6.95142857e+02,\n",
       "        7.18571429e+01,  4.62857143e+01, -8.47000000e+02, -2.66571429e+02,\n",
       "        6.81428571e+01, -2.47285714e+02])"
      ]
     },
     "execution_count": 14,
     "metadata": {},
     "output_type": "execute_result"
    }
   ],
   "source": [
    "outlier_results['utility'].unique()\n"
   ]
  },
  {
   "cell_type": "code",
   "execution_count": null,
   "metadata": {},
   "outputs": [],
   "source": []
  }
 ],
 "metadata": {
  "kernelspec": {
   "display_name": "Python 3",
   "language": "python",
   "name": "python3"
  },
  "language_info": {
   "codemirror_mode": {
    "name": "ipython",
    "version": 3
   },
   "file_extension": ".py",
   "mimetype": "text/x-python",
   "name": "python",
   "nbconvert_exporter": "python",
   "pygments_lexer": "ipython3",
   "version": "3.7.3"
  }
 },
 "nbformat": 4,
 "nbformat_minor": 2
}
