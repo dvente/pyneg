{
 "cells": [
  {
   "cell_type": "code",
   "execution_count": 189,
   "metadata": {},
   "outputs": [],
   "source": [
    "from numpy.random import randint\n",
    "import numpy as np\n",
    "import seaborn as sns\n",
    "import matplotlib.pyplot as plt\n",
    "import os \n",
    "from os import path, listdir\n",
    "from utils import neg_scenario_from_util_matrices, count_acceptable_offers\n",
    "import pandas as pd\n",
    "from uuid import uuid4\n",
    "from shutil import rmtree"
   ]
  },
  {
   "cell_type": "code",
   "execution_count": 108,
   "metadata": {},
   "outputs": [],
   "source": [
    "shape = (6,8)\n",
    "lower = 0\n",
    "upper = 100\n",
    "constr = -1000\n",
    "csv_columns = [\"n\", \"m\", \"rho_a\", \"rho_b\", \"a_accepts\", \"b_accepts\", \"both_accept\",\n",
    "                        \"p_a\", \"p_b\", 'success', 'total_message_count',\n",
    "                        'n_constr', 'n_constr_discovered', 'n_constr_opponent_discovered',\n",
    "                        'strat', 'opponent_strat', 'utility', 'opponent_utility', 'total_generated_offers']"
   ]
  },
  {
   "cell_type": "code",
   "execution_count": 142,
   "metadata": {},
   "outputs": [
    {
     "data": {
      "image/png": "[encoded data removed]",
      "text/plain": [
       "<Figure size 432x288 with 8 Axes>"
      ]
     },
     "metadata": {
      "needs_background": "light"
     },
     "output_type": "display_data"
    }
   ],
   "source": [
    "u_a = randint(lower, upper, shape[0]*shape[1]).reshape(shape)\n",
    "u_b = randint(lower, upper, shape[0]*shape[1]).reshape(shape)\n",
    "u_a_constr, u_b_constr = insert_constr(u_a,u_b,3)\n",
    "\n",
    "fig, axes = plt.subplots(nrows=2,ncols=2)\n",
    "sns.heatmap(u_a, ax=axes[0,0], cmap=\"RdYlGn\")\n",
    "sns.heatmap(u_b, ax=axes[0,1], cmap=\"RdYlGn\")\n",
    "sns.heatmap(u_a_constr, ax=axes[1,0], cmap=\"RdYlGn\")\n",
    "sns.heatmap(u_b_constr, ax=axes[1,1], cmap=\"RdYlGn\")\n",
    "plt.show()"
   ]
  },
  {
   "cell_type": "code",
   "execution_count": 202,
   "metadata": {},
   "outputs": [],
   "source": [
    "def setup_random_scenarios(root_dir,shape,numb_of_scenarios):\n",
    "    if path.exists(root_dir):\n",
    "        rmtree(root_dir)\n",
    "    os.mkdir(root_dir)\n",
    "    \n",
    "    lower = 0\n",
    "    upper = 100\n",
    "    \n",
    "    base_a = randint(lower, upper, shape[0]*shape[1]).reshape(shape)\n",
    "    base_b = randint(lower, upper, shape[0]*shape[1]).reshape(shape)\n",
    "    \n",
    "    for _ in range(numb_of_scenarios):\n",
    "        uuid = uuid4()\n",
    "        \n",
    "        scenario_dir = path.join(root_dir,str(uuid)) \n",
    "        os.mkdir(scenario_dir)\n",
    "        \n",
    "        for cntr in range(2*shape[0]):\n",
    "            instance_dir = path.join(scenario_dir,str(cntr))\n",
    "            os.mkdir(instance_dir)\n",
    "            constr_a, constr_b = insert_difficult_constraints(base_a,base_b,cntr)\n",
    "            np.save(path.join(instance_dir,\"a.npy\"),constr_a)\n",
    "            np.save(path.join(instance_dir,\"b.npy\"),constr_b)\n",
    "            \n",
    "        "
   ]
  },
  {
   "cell_type": "code",
   "execution_count": 203,
   "metadata": {},
   "outputs": [],
   "source": [
    "def insert_difficult_constraints(a,b,numb):\n",
    "    assert a.shape == b.shape\n",
    "    a_ret = a.copy()\n",
    "    b_ret = b.copy()\n",
    "    constr = -max(a.max(),b.max()) * 2 * shape[0] # constr is minus twice the max times N\n",
    "    \n",
    "    \n",
    "    for ind in zip(*np.unravel_index(np.argsort(b,axis=None)[::-1][:numb],b.shape)):\n",
    "        i,j = ind\n",
    "        a_ret[i,j] = constr\n",
    "    \n",
    "    for ind in zip(*np.unravel_index(np.argsort(a,axis=None)[::-1][:numb],a.shape)):\n",
    "        i,j = ind\n",
    "        b_ret[i,j] = constr\n",
    "\n",
    "    return a_ret,b_ret\n"
   ]
  },
  {
   "cell_type": "code",
   "execution_count": 211,
   "metadata": {},
   "outputs": [],
   "source": [
    "setup_random_scenarios(\"./scenarios\",shape,10)"
   ]
  },
  {
   "cell_type": "code",
   "execution_count": 210,
   "metadata": {},
   "outputs": [
    {
     "data": {
      "image/png": "[encoded data removed]",
      "text/plain": [
       "<Figure size 432x288 with 8 Axes>"
      ]
     },
     "metadata": {
      "needs_background": "light"
     },
     "output_type": "display_data"
    }
   ],
   "source": [
    "scenario_dir = next(iter(listdir(\"./scenarios\")))\n",
    "a_base = np.load(\"./scenarios/{dir}/0/a.npy\".format(dir=scenario_dir))\n",
    "b_base = np.load(\"./scenarios/{dir}/0/b.npy\".format(dir=scenario_dir))\n",
    "a_constr = np.load(\"./scenarios/{dir}/3/a.npy\".format(dir=scenario_dir))\n",
    "b_constr = np.load(\"./scenarios/{dir}/3/b.npy\".format(dir=scenario_dir))\n",
    "\n",
    "fig, axes = plt.subplots(nrows=2,ncols=2)\n",
    "sns.heatmap(a_base, ax=axes[0,0], cmap=\"RdYlGn\")\n",
    "sns.heatmap(b_base, ax=axes[0,1], cmap=\"RdYlGn\")\n",
    "sns.heatmap(a_constr, ax=axes[1,0], cmap=\"RdYlGn\")\n",
    "sns.heatmap(b_constr, ax=axes[1,1], cmap=\"RdYlGn\")\n",
    "plt.show()"
   ]
  },
  {
   "cell_type": "code",
   "execution_count": null,
   "metadata": {},
   "outputs": [],
   "source": []
  }
 ],
 "metadata": {
  "kernelspec": {
   "display_name": "Python 3",
   "language": "python",
   "name": "python3"
  },
  "language_info": {
   "codemirror_mode": {
    "name": "ipython",
    "version": 3
   },
   "file_extension": ".py",
   "mimetype": "text/x-python",
   "name": "python",
   "nbconvert_exporter": "python",
   "pygments_lexer": "ipython3",
   "version": "3.7.3"
  }
 },
 "nbformat": 4,
 "nbformat_minor": 2
}
